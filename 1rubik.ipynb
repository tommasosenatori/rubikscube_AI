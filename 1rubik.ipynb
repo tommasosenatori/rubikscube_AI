{
 "cells": [
  {
   "cell_type": "code",
   "execution_count": null,
   "metadata": {},
   "outputs": [],
   "source": [
    "import numpy as np"
   ]
  },
  {
   "cell_type": "markdown",
   "metadata": {},
   "source": [
    "### Singmaster 2D Notation (easy notation)"
   ]
  },
  {
   "cell_type": "code",
   "execution_count": null,
   "metadata": {},
   "outputs": [],
   "source": [
    "# hashmap for Singmaster 2D notation (easy)\n",
    "# U (Up - White), D (Down - Yellow), L (Left - Orange), R (Right - Red), F (Front - Green), B (Back - Blue)\n",
    "faces = {\n",
    "    'U': np.array([['W']*3 for _ in range(3)]),  # Up (White)\n",
    "    'D': np.array([['Y']*3 for _ in range(3)]),  # Down (Yellow)\n",
    "    'L': np.array([['O']*3 for _ in range(3)]),  # Left (Orange)\n",
    "    'R': np.array([['R']*3 for _ in range(3)]),  # Right (Red)\n",
    "    'F': np.array([['G']*3 for _ in range(3)]),  # Front (Green)\n",
    "    'B': np.array([['B']*3 for _ in range(3)])   # Back (Blue)\n",
    "}\n",
    "# hashmap con elementi del tipo {\"stringa\":matrice[][]}"
   ]
  },
  {
   "cell_type": "code",
   "execution_count": 3,
   "metadata": {},
   "outputs": [
    {
     "name": "stdout",
     "output_type": "stream",
     "text": [
      "U face:\n",
      "[['W' 'W' 'W']\n",
      " ['W' 'W' 'W']\n",
      " ['W' 'W' 'W']]\n",
      "\n",
      "D face:\n",
      "[['Y' 'Y' 'Y']\n",
      " ['Y' 'Y' 'Y']\n",
      " ['Y' 'Y' 'Y']]\n",
      "\n",
      "L face:\n",
      "[['O' 'O' 'O']\n",
      " ['O' 'O' 'O']\n",
      " ['O' 'O' 'O']]\n",
      "\n",
      "R face:\n",
      "[['R' 'R' 'R']\n",
      " ['R' 'R' 'R']\n",
      " ['R' 'R' 'R']]\n",
      "\n",
      "F face:\n",
      "[['G' 'G' 'G']\n",
      " ['G' 'G' 'G']\n",
      " ['G' 'G' 'G']]\n",
      "\n",
      "B face:\n",
      "[['B' 'B' 'B']\n",
      " ['B' 'B' 'B']\n",
      " ['B' 'B' 'B']]\n",
      "\n"
     ]
    }
   ],
   "source": [
    "# print cube in 2D noation\n",
    "def display_cube():\n",
    "    for face, grid in faces.items():\n",
    "        print(f\"{face} face:\")\n",
    "        print(grid)\n",
    "        print()\n",
    "\n",
    "display_cube()"
   ]
  },
  {
   "cell_type": "code",
   "execution_count": null,
   "metadata": {},
   "outputs": [
    {
     "name": "stdout",
     "output_type": "stream",
     "text": [
      "U face:\n",
      "[['W' 'W' 'W']\n",
      " ['W' 'W' 'W']\n",
      " ['W' 'W' 'W']]\n",
      "\n",
      "D face:\n",
      "[['Y' 'Y' 'Y']\n",
      " ['Y' 'Y' 'Y']\n",
      " ['Y' 'Y' 'Y']]\n",
      "\n",
      "L face:\n",
      "[['B' 'B' 'B']\n",
      " ['O' 'O' 'O']\n",
      " ['O' 'O' 'O']]\n",
      "\n",
      "R face:\n",
      "[['G' 'G' 'G']\n",
      " ['R' 'R' 'R']\n",
      " ['R' 'R' 'R']]\n",
      "\n",
      "F face:\n",
      "[['O' 'O' 'O']\n",
      " ['G' 'G' 'G']\n",
      " ['G' 'G' 'G']]\n",
      "\n",
      "B face:\n",
      "[['R' 'R' 'R']\n",
      " ['B' 'B' 'B']\n",
      " ['B' 'B' 'B']]\n",
      "\n",
      "After U move:\n",
      "U face:\n",
      "[['W' 'W' 'W']\n",
      " ['W' 'W' 'W']\n",
      " ['W' 'W' 'W']]\n",
      "\n",
      "D face:\n",
      "[['Y' 'Y' 'Y']\n",
      " ['Y' 'Y' 'Y']\n",
      " ['Y' 'Y' 'Y']]\n",
      "\n",
      "L face:\n",
      "[['O' 'O' 'O']\n",
      " ['O' 'O' 'O']\n",
      " ['O' 'O' 'O']]\n",
      "\n",
      "R face:\n",
      "[['R' 'R' 'R']\n",
      " ['R' 'R' 'R']\n",
      " ['R' 'R' 'R']]\n",
      "\n",
      "F face:\n",
      "[['G' 'G' 'G']\n",
      " ['G' 'G' 'G']\n",
      " ['G' 'G' 'G']]\n",
      "\n",
      "B face:\n",
      "[['B' 'B' 'B']\n",
      " ['B' 'B' 'B']\n",
      " ['B' 'B' 'B']]\n",
      "\n"
     ]
    }
   ],
   "source": [
    "def rotate_face_clockwise(face):\n",
    "    faces[face] = np.rot90(faces[face], k=-1)\n",
    "\n",
    "def move_U():\n",
    "    # U rotates\n",
    "    rotate_face_clockwise('U')\n",
    "    # D not affected\n",
    "\n",
    "    # F,R,B,L:\n",
    "    \n",
    "    # temporary var\n",
    "    temp = faces['F'][0].copy()\n",
    "    \n",
    "    # Swap edge pieces around the U face (first row of every matrix/face)\n",
    "    faces['F'][0] = faces['R'][0]  # Front <- Right\n",
    "    faces['R'][0] = faces['B'][0]  # Right <- Back\n",
    "    faces['B'][0] = faces['L'][0]  # Back <- Left\n",
    "    faces['L'][0] = temp           # Left <- Front\n",
    "\n",
    "display_cube()\n",
    "move_U()\n",
    "print(\"After U move:\")\n",
    "display_cube()\n",
    "\n",
    "# U' = U,U,U\n",
    "def move_U_prime():\n",
    "    move_U()\n",
    "    move_U()\n",
    "    move_U()\n",
    "\n",
    "# U2 = U,U\n",
    "def move_U2():\n",
    "    move_U()\n",
    "    move_U()"
   ]
  },
  {
   "cell_type": "code",
   "execution_count": null,
   "metadata": {},
   "outputs": [],
   "source": [
    "def move_R():"
   ]
  }
 ],
 "metadata": {
  "kernelspec": {
   "display_name": "Python 3",
   "language": "python",
   "name": "python3"
  },
  "language_info": {
   "codemirror_mode": {
    "name": "ipython",
    "version": 3
   },
   "file_extension": ".py",
   "mimetype": "text/x-python",
   "name": "python",
   "nbconvert_exporter": "python",
   "pygments_lexer": "ipython3",
   "version": "3.11.4"
  }
 },
 "nbformat": 4,
 "nbformat_minor": 2
}
